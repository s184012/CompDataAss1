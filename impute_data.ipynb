{
 "cells": [
  {
   "cell_type": "code",
   "execution_count": 155,
   "metadata": {},
   "outputs": [],
   "source": [
    "import pandas as pd\n",
    "from sklearn.experimental import enable_iterative_imputer\n",
    "import sklearn.impute as imp\n",
    "import sklearn.preprocessing as preproc\n",
    "from sklearn.neighbors import KNeighborsClassifier, KNeighborsRegressor\n",
    "from sklearn.pipeline import make_pipeline, Pipeline, make_union, FeatureUnion\n",
    "from sklearn.compose import make_column_transformer, make_column_selector\n",
    "import sklearn.tree as tree\n",
    "import numpy as np\n",
    "import matplotlib.pyplot as plt\n",
    "import seaborn as sns"
   ]
  },
  {
   "cell_type": "code",
   "execution_count": 230,
   "metadata": {},
   "outputs": [
    {
     "data": {
      "text/html": [
       "<style>#sk-container-id-5 {color: black;background-color: white;}#sk-container-id-5 pre{padding: 0;}#sk-container-id-5 div.sk-toggleable {background-color: white;}#sk-container-id-5 label.sk-toggleable__label {cursor: pointer;display: block;width: 100%;margin-bottom: 0;padding: 0.3em;box-sizing: border-box;text-align: center;}#sk-container-id-5 label.sk-toggleable__label-arrow:before {content: \"▸\";float: left;margin-right: 0.25em;color: #696969;}#sk-container-id-5 label.sk-toggleable__label-arrow:hover:before {color: black;}#sk-container-id-5 div.sk-estimator:hover label.sk-toggleable__label-arrow:before {color: black;}#sk-container-id-5 div.sk-toggleable__content {max-height: 0;max-width: 0;overflow: hidden;text-align: left;background-color: #f0f8ff;}#sk-container-id-5 div.sk-toggleable__content pre {margin: 0.2em;color: black;border-radius: 0.25em;background-color: #f0f8ff;}#sk-container-id-5 input.sk-toggleable__control:checked~div.sk-toggleable__content {max-height: 200px;max-width: 100%;overflow: auto;}#sk-container-id-5 input.sk-toggleable__control:checked~label.sk-toggleable__label-arrow:before {content: \"▾\";}#sk-container-id-5 div.sk-estimator input.sk-toggleable__control:checked~label.sk-toggleable__label {background-color: #d4ebff;}#sk-container-id-5 div.sk-label input.sk-toggleable__control:checked~label.sk-toggleable__label {background-color: #d4ebff;}#sk-container-id-5 input.sk-hidden--visually {border: 0;clip: rect(1px 1px 1px 1px);clip: rect(1px, 1px, 1px, 1px);height: 1px;margin: -1px;overflow: hidden;padding: 0;position: absolute;width: 1px;}#sk-container-id-5 div.sk-estimator {font-family: monospace;background-color: #f0f8ff;border: 1px dotted black;border-radius: 0.25em;box-sizing: border-box;margin-bottom: 0.5em;}#sk-container-id-5 div.sk-estimator:hover {background-color: #d4ebff;}#sk-container-id-5 div.sk-parallel-item::after {content: \"\";width: 100%;border-bottom: 1px solid gray;flex-grow: 1;}#sk-container-id-5 div.sk-label:hover label.sk-toggleable__label {background-color: #d4ebff;}#sk-container-id-5 div.sk-serial::before {content: \"\";position: absolute;border-left: 1px solid gray;box-sizing: border-box;top: 0;bottom: 0;left: 50%;z-index: 0;}#sk-container-id-5 div.sk-serial {display: flex;flex-direction: column;align-items: center;background-color: white;padding-right: 0.2em;padding-left: 0.2em;position: relative;}#sk-container-id-5 div.sk-item {position: relative;z-index: 1;}#sk-container-id-5 div.sk-parallel {display: flex;align-items: stretch;justify-content: center;background-color: white;position: relative;}#sk-container-id-5 div.sk-item::before, #sk-container-id-5 div.sk-parallel-item::before {content: \"\";position: absolute;border-left: 1px solid gray;box-sizing: border-box;top: 0;bottom: 0;left: 50%;z-index: -1;}#sk-container-id-5 div.sk-parallel-item {display: flex;flex-direction: column;z-index: 1;position: relative;background-color: white;}#sk-container-id-5 div.sk-parallel-item:first-child::after {align-self: flex-end;width: 50%;}#sk-container-id-5 div.sk-parallel-item:last-child::after {align-self: flex-start;width: 50%;}#sk-container-id-5 div.sk-parallel-item:only-child::after {width: 0;}#sk-container-id-5 div.sk-dashed-wrapped {border: 1px dashed gray;margin: 0 0.4em 0.5em 0.4em;box-sizing: border-box;padding-bottom: 0.4em;background-color: white;}#sk-container-id-5 div.sk-label label {font-family: monospace;font-weight: bold;display: inline-block;line-height: 1.2em;}#sk-container-id-5 div.sk-label-container {text-align: center;}#sk-container-id-5 div.sk-container {/* jupyter's `normalize.less` sets `[hidden] { display: none; }` but bootstrap.min.css set `[hidden] { display: none !important; }` so we also need the `!important` here to be able to override the default hidden behavior on the sphinx rendered scikit-learn.org. See: https://github.com/scikit-learn/scikit-learn/issues/21755 */display: inline-block !important;position: relative;}#sk-container-id-5 div.sk-text-repr-fallback {display: none;}</style><div id=\"sk-container-id-5\" class=\"sk-top-container\"><div class=\"sk-text-repr-fallback\"><pre>FeatureUnion(transformer_list=[(&#x27;pipeline&#x27;,\n",
       "                                Pipeline(steps=[(&#x27;columntransformer-1&#x27;,\n",
       "                                                 ColumnTransformer(remainder=&#x27;passthrough&#x27;,\n",
       "                                                                   transformers=[(&#x27;onehotencoder&#x27;,\n",
       "                                                                                  OneHotEncoder(categories=[array([&#x27;H&#x27;, &#x27;K&#x27;, &#x27;I&#x27;, &#x27;G&#x27;, &#x27;J&#x27;], dtype=object),\n",
       "                                                                                                            array([&#x27;H&#x27;, &#x27;I&#x27;], dtype=object),\n",
       "                                                                                                            array([&#x27;K&#x27;, &#x27;G&#x27;, &#x27;I&#x27;, &#x27;J&#x27;, &#x27;H&#x27;], dtype=object),\n",
       "                                                                                                            array([&#x27;J&#x27;, &#x27;I&#x27;, &#x27;G&#x27;, &#x27;H&#x27;, &#x27;K&#x27;], dtype=object),\n",
       "                                                                                                            array([&#x27;J&#x27;, &#x27;G...\n",
       "                                                                                  &lt;sklearn.compose._column_transformer.make_column_selector object at 0x7f7b345780a0&gt;)])),\n",
       "                                                (&#x27;columntransformer-2&#x27;,\n",
       "                                                 ColumnTransformer(transformers=[(&#x27;knnimputer&#x27;,\n",
       "                                                                                  KNNImputer(),\n",
       "                                                                                  &lt;sklearn.compose._column_transformer.make_column_selector object at 0x7f7b3457bdc0&gt;)]))])),\n",
       "                               (&#x27;columntransformer&#x27;,\n",
       "                                ColumnTransformer(transformers=[(&#x27;passthrough&#x27;,\n",
       "                                                                 &#x27;passthrough&#x27;,\n",
       "                                                                 &lt;sklearn.compose._column_transformer.make_column_selector object at 0x7f7b345780a0&gt;)]))])</pre><b>In a Jupyter environment, please rerun this cell to show the HTML representation or trust the notebook. <br />On GitHub, the HTML representation is unable to render, please try loading this page with nbviewer.org.</b></div><div class=\"sk-container\" hidden><div class=\"sk-item sk-dashed-wrapped\"><div class=\"sk-label-container\"><div class=\"sk-label sk-toggleable\"><input class=\"sk-toggleable__control sk-hidden--visually\" id=\"sk-estimator-id-28\" type=\"checkbox\" ><label for=\"sk-estimator-id-28\" class=\"sk-toggleable__label sk-toggleable__label-arrow\">FeatureUnion</label><div class=\"sk-toggleable__content\"><pre>FeatureUnion(transformer_list=[(&#x27;pipeline&#x27;,\n",
       "                                Pipeline(steps=[(&#x27;columntransformer-1&#x27;,\n",
       "                                                 ColumnTransformer(remainder=&#x27;passthrough&#x27;,\n",
       "                                                                   transformers=[(&#x27;onehotencoder&#x27;,\n",
       "                                                                                  OneHotEncoder(categories=[array([&#x27;H&#x27;, &#x27;K&#x27;, &#x27;I&#x27;, &#x27;G&#x27;, &#x27;J&#x27;], dtype=object),\n",
       "                                                                                                            array([&#x27;H&#x27;, &#x27;I&#x27;], dtype=object),\n",
       "                                                                                                            array([&#x27;K&#x27;, &#x27;G&#x27;, &#x27;I&#x27;, &#x27;J&#x27;, &#x27;H&#x27;], dtype=object),\n",
       "                                                                                                            array([&#x27;J&#x27;, &#x27;I&#x27;, &#x27;G&#x27;, &#x27;H&#x27;, &#x27;K&#x27;], dtype=object),\n",
       "                                                                                                            array([&#x27;J&#x27;, &#x27;G...\n",
       "                                                                                  &lt;sklearn.compose._column_transformer.make_column_selector object at 0x7f7b345780a0&gt;)])),\n",
       "                                                (&#x27;columntransformer-2&#x27;,\n",
       "                                                 ColumnTransformer(transformers=[(&#x27;knnimputer&#x27;,\n",
       "                                                                                  KNNImputer(),\n",
       "                                                                                  &lt;sklearn.compose._column_transformer.make_column_selector object at 0x7f7b3457bdc0&gt;)]))])),\n",
       "                               (&#x27;columntransformer&#x27;,\n",
       "                                ColumnTransformer(transformers=[(&#x27;passthrough&#x27;,\n",
       "                                                                 &#x27;passthrough&#x27;,\n",
       "                                                                 &lt;sklearn.compose._column_transformer.make_column_selector object at 0x7f7b345780a0&gt;)]))])</pre></div></div></div><div class=\"sk-parallel\"><div class=\"sk-parallel-item\"><div class=\"sk-item\"><div class=\"sk-label-container\"><div class=\"sk-label sk-toggleable\"><label>pipeline</label></div></div><div class=\"sk-serial\"><div class=\"sk-item\"><div class=\"sk-serial\"><div class=\"sk-item sk-dashed-wrapped\"><div class=\"sk-label-container\"><div class=\"sk-label sk-toggleable\"><input class=\"sk-toggleable__control sk-hidden--visually\" id=\"sk-estimator-id-29\" type=\"checkbox\" ><label for=\"sk-estimator-id-29\" class=\"sk-toggleable__label sk-toggleable__label-arrow\">columntransformer-1: ColumnTransformer</label><div class=\"sk-toggleable__content\"><pre>ColumnTransformer(remainder=&#x27;passthrough&#x27;,\n",
       "                  transformers=[(&#x27;onehotencoder&#x27;,\n",
       "                                 OneHotEncoder(categories=[array([&#x27;H&#x27;, &#x27;K&#x27;, &#x27;I&#x27;, &#x27;G&#x27;, &#x27;J&#x27;], dtype=object),\n",
       "                                                           array([&#x27;H&#x27;, &#x27;I&#x27;], dtype=object),\n",
       "                                                           array([&#x27;K&#x27;, &#x27;G&#x27;, &#x27;I&#x27;, &#x27;J&#x27;, &#x27;H&#x27;], dtype=object),\n",
       "                                                           array([&#x27;J&#x27;, &#x27;I&#x27;, &#x27;G&#x27;, &#x27;H&#x27;, &#x27;K&#x27;], dtype=object),\n",
       "                                                           array([&#x27;J&#x27;, &#x27;G&#x27;, &#x27;K&#x27;, &#x27;H&#x27;, &#x27;I&#x27;], dtype=object)],\n",
       "                                               handle_unknown=&#x27;ignore&#x27;,\n",
       "                                               sparse_output=False),\n",
       "                                 &lt;sklearn.compose._column_transformer.make_column_selector object at 0x7f7b345780a0&gt;)])</pre></div></div></div><div class=\"sk-parallel\"><div class=\"sk-parallel-item\"><div class=\"sk-item\"><div class=\"sk-label-container\"><div class=\"sk-label sk-toggleable\"><input class=\"sk-toggleable__control sk-hidden--visually\" id=\"sk-estimator-id-30\" type=\"checkbox\" ><label for=\"sk-estimator-id-30\" class=\"sk-toggleable__label sk-toggleable__label-arrow\">onehotencoder</label><div class=\"sk-toggleable__content\"><pre>&lt;sklearn.compose._column_transformer.make_column_selector object at 0x7f7b345780a0&gt;</pre></div></div></div><div class=\"sk-serial\"><div class=\"sk-item\"><div class=\"sk-estimator sk-toggleable\"><input class=\"sk-toggleable__control sk-hidden--visually\" id=\"sk-estimator-id-31\" type=\"checkbox\" ><label for=\"sk-estimator-id-31\" class=\"sk-toggleable__label sk-toggleable__label-arrow\">OneHotEncoder</label><div class=\"sk-toggleable__content\"><pre>OneHotEncoder(categories=[array([&#x27;H&#x27;, &#x27;K&#x27;, &#x27;I&#x27;, &#x27;G&#x27;, &#x27;J&#x27;], dtype=object),\n",
       "                          array([&#x27;H&#x27;, &#x27;I&#x27;], dtype=object),\n",
       "                          array([&#x27;K&#x27;, &#x27;G&#x27;, &#x27;I&#x27;, &#x27;J&#x27;, &#x27;H&#x27;], dtype=object),\n",
       "                          array([&#x27;J&#x27;, &#x27;I&#x27;, &#x27;G&#x27;, &#x27;H&#x27;, &#x27;K&#x27;], dtype=object),\n",
       "                          array([&#x27;J&#x27;, &#x27;G&#x27;, &#x27;K&#x27;, &#x27;H&#x27;, &#x27;I&#x27;], dtype=object)],\n",
       "              handle_unknown=&#x27;ignore&#x27;, sparse_output=False)</pre></div></div></div></div></div></div><div class=\"sk-parallel-item\"><div class=\"sk-item\"><div class=\"sk-label-container\"><div class=\"sk-label sk-toggleable\"><input class=\"sk-toggleable__control sk-hidden--visually\" id=\"sk-estimator-id-32\" type=\"checkbox\" ><label for=\"sk-estimator-id-32\" class=\"sk-toggleable__label sk-toggleable__label-arrow\">remainder</label><div class=\"sk-toggleable__content\"><pre>[&#x27;x_1&#x27;, &#x27;x_2&#x27;, &#x27;x_3&#x27;, &#x27;x_4&#x27;, &#x27;x_5&#x27;, &#x27;x_6&#x27;, &#x27;x_7&#x27;, &#x27;x_8&#x27;, &#x27;x_9&#x27;, &#x27;x_10&#x27;, &#x27;x_11&#x27;, &#x27;x_12&#x27;, &#x27;x_13&#x27;, &#x27;x_14&#x27;, &#x27;x_15&#x27;, &#x27;x_16&#x27;, &#x27;x_17&#x27;, &#x27;x_18&#x27;, &#x27;x_19&#x27;, &#x27;x_20&#x27;, &#x27;x_21&#x27;, &#x27;x_22&#x27;, &#x27;x_23&#x27;, &#x27;x_24&#x27;, &#x27;x_25&#x27;, &#x27;x_26&#x27;, &#x27;x_27&#x27;, &#x27;x_28&#x27;, &#x27;x_29&#x27;, &#x27;x_30&#x27;, &#x27;x_31&#x27;, &#x27;x_32&#x27;, &#x27;x_33&#x27;, &#x27;x_34&#x27;, &#x27;x_35&#x27;, &#x27;x_36&#x27;, &#x27;x_37&#x27;, &#x27;x_38&#x27;, &#x27;x_39&#x27;, &#x27;x_40&#x27;, &#x27;x_41&#x27;, &#x27;x_42&#x27;, &#x27;x_43&#x27;, &#x27;x_44&#x27;, &#x27;x_45&#x27;, &#x27;x_46&#x27;, &#x27;x_47&#x27;, &#x27;x_48&#x27;, &#x27;x_49&#x27;, &#x27;x_50&#x27;, &#x27;x_51&#x27;, &#x27;x_52&#x27;, &#x27;x_53&#x27;, &#x27;x_54&#x27;, &#x27;x_55&#x27;, &#x27;x_56&#x27;, &#x27;x_57&#x27;, &#x27;x_58&#x27;, &#x27;x_59&#x27;, &#x27;x_60&#x27;, &#x27;x_61&#x27;, &#x27;x_62&#x27;, &#x27;x_63&#x27;, &#x27;x_64&#x27;, &#x27;x_65&#x27;, &#x27;x_66&#x27;, &#x27;x_67&#x27;, &#x27;x_68&#x27;, &#x27;x_69&#x27;, &#x27;x_70&#x27;, &#x27;x_71&#x27;, &#x27;x_72&#x27;, &#x27;x_73&#x27;, &#x27;x_74&#x27;, &#x27;x_75&#x27;, &#x27;x_76&#x27;, &#x27;x_77&#x27;, &#x27;x_78&#x27;, &#x27;x_79&#x27;, &#x27;x_80&#x27;, &#x27;x_81&#x27;, &#x27;x_82&#x27;, &#x27;x_83&#x27;, &#x27;x_84&#x27;, &#x27;x_85&#x27;, &#x27;x_86&#x27;, &#x27;x_87&#x27;, &#x27;x_88&#x27;, &#x27;x_89&#x27;, &#x27;x_90&#x27;, &#x27;x_91&#x27;, &#x27;x_92&#x27;, &#x27;x_93&#x27;, &#x27;x_94&#x27;, &#x27;x_95&#x27;]</pre></div></div></div><div class=\"sk-serial\"><div class=\"sk-item\"><div class=\"sk-estimator sk-toggleable\"><input class=\"sk-toggleable__control sk-hidden--visually\" id=\"sk-estimator-id-33\" type=\"checkbox\" ><label for=\"sk-estimator-id-33\" class=\"sk-toggleable__label sk-toggleable__label-arrow\">passthrough</label><div class=\"sk-toggleable__content\"><pre>passthrough</pre></div></div></div></div></div></div></div></div><div class=\"sk-item sk-dashed-wrapped\"><div class=\"sk-label-container\"><div class=\"sk-label sk-toggleable\"><input class=\"sk-toggleable__control sk-hidden--visually\" id=\"sk-estimator-id-34\" type=\"checkbox\" ><label for=\"sk-estimator-id-34\" class=\"sk-toggleable__label sk-toggleable__label-arrow\">columntransformer-2: ColumnTransformer</label><div class=\"sk-toggleable__content\"><pre>ColumnTransformer(transformers=[(&#x27;knnimputer&#x27;, KNNImputer(),\n",
       "                                 &lt;sklearn.compose._column_transformer.make_column_selector object at 0x7f7b3457bdc0&gt;)])</pre></div></div></div><div class=\"sk-parallel\"><div class=\"sk-parallel-item\"><div class=\"sk-item\"><div class=\"sk-label-container\"><div class=\"sk-label sk-toggleable\"><input class=\"sk-toggleable__control sk-hidden--visually\" id=\"sk-estimator-id-35\" type=\"checkbox\" ><label for=\"sk-estimator-id-35\" class=\"sk-toggleable__label sk-toggleable__label-arrow\">knnimputer</label><div class=\"sk-toggleable__content\"><pre>&lt;sklearn.compose._column_transformer.make_column_selector object at 0x7f7b3457bdc0&gt;</pre></div></div></div><div class=\"sk-serial\"><div class=\"sk-item\"><div class=\"sk-estimator sk-toggleable\"><input class=\"sk-toggleable__control sk-hidden--visually\" id=\"sk-estimator-id-36\" type=\"checkbox\" ><label for=\"sk-estimator-id-36\" class=\"sk-toggleable__label sk-toggleable__label-arrow\">KNNImputer</label><div class=\"sk-toggleable__content\"><pre>KNNImputer()</pre></div></div></div></div></div></div></div></div></div></div></div></div></div><div class=\"sk-parallel-item\"><div class=\"sk-item\"><div class=\"sk-label-container\"><div class=\"sk-label sk-toggleable\"><label>columntransformer</label></div></div><div class=\"sk-serial\"><div class=\"sk-item sk-dashed-wrapped\"><div class=\"sk-parallel\"><div class=\"sk-parallel-item\"><div class=\"sk-item\"><div class=\"sk-label-container\"><div class=\"sk-label sk-toggleable\"><input class=\"sk-toggleable__control sk-hidden--visually\" id=\"sk-estimator-id-37\" type=\"checkbox\" ><label for=\"sk-estimator-id-37\" class=\"sk-toggleable__label sk-toggleable__label-arrow\">passthrough</label><div class=\"sk-toggleable__content\"><pre>&lt;sklearn.compose._column_transformer.make_column_selector object at 0x7f7b345780a0&gt;</pre></div></div></div><div class=\"sk-serial\"><div class=\"sk-item\"><div class=\"sk-estimator sk-toggleable\"><input class=\"sk-toggleable__control sk-hidden--visually\" id=\"sk-estimator-id-38\" type=\"checkbox\" ><label for=\"sk-estimator-id-38\" class=\"sk-toggleable__label sk-toggleable__label-arrow\">passthrough</label><div class=\"sk-toggleable__content\"><pre>passthrough</pre></div></div></div></div></div></div></div></div></div></div></div></div></div></div></div>"
      ],
      "text/plain": [
       "FeatureUnion(transformer_list=[('pipeline',\n",
       "                                Pipeline(steps=[('columntransformer-1',\n",
       "                                                 ColumnTransformer(remainder='passthrough',\n",
       "                                                                   transformers=[('onehotencoder',\n",
       "                                                                                  OneHotEncoder(categories=[array(['H', 'K', 'I', 'G', 'J'], dtype=object),\n",
       "                                                                                                            array(['H', 'I'], dtype=object),\n",
       "                                                                                                            array(['K', 'G', 'I', 'J', 'H'], dtype=object),\n",
       "                                                                                                            array(['J', 'I', 'G', 'H', 'K'], dtype=object),\n",
       "                                                                                                            array(['J', 'G...\n",
       "                                                                                  <sklearn.compose._column_transformer.make_column_selector object at 0x7f7b345780a0>)])),\n",
       "                                                ('columntransformer-2',\n",
       "                                                 ColumnTransformer(transformers=[('knnimputer',\n",
       "                                                                                  KNNImputer(),\n",
       "                                                                                  <sklearn.compose._column_transformer.make_column_selector object at 0x7f7b3457bdc0>)]))])),\n",
       "                               ('columntransformer',\n",
       "                                ColumnTransformer(transformers=[('passthrough',\n",
       "                                                                 'passthrough',\n",
       "                                                                 <sklearn.compose._column_transformer.make_column_selector object at 0x7f7b345780a0>)]))])"
      ]
     },
     "execution_count": 230,
     "metadata": {},
     "output_type": "execute_result"
    }
   ],
   "source": [
    "df = pd.read_csv('raw.csv')\n",
    "X, y = df.drop(labels='y', axis=1), df['y']\n",
    "\n",
    "categorical_columns = make_column_selector(pattern='C_')\n",
    "numerical_columns = make_column_selector(pattern='x_')\n",
    "non_nan_categories = list(df.loc[:, df.columns.str.contains('C_')].dropna().apply(lambda x: x.unique()).to_numpy())\n",
    "\n",
    "onehot_no_nans_encoder = preproc.OneHotEncoder(\n",
    "    categories = non_nan_categories, \n",
    "    handle_unknown='ignore', \n",
    "    sparse_output=False\n",
    "    )\n",
    "\n",
    "numerical_imputer = imp.KNNImputer()\n",
    "\n",
    "onehot_no_nans_transformer = make_column_transformer(\n",
    "    (onehot_no_nans_encoder, categorical_columns),\n",
    "    remainder=\"passthrough\"\n",
    ")\n",
    "\n",
    "impute_x_transformer = make_column_transformer(\n",
    "    (numerical_imputer, numerical_columns)\n",
    ")\n",
    "\n",
    "extract_categories_transformer = make_column_transformer(\n",
    "    (\"passthrough\", categorical_columns)\n",
    ")\n",
    "preprocess_x = make_pipeline(onehot_no_nans_transformer, impute_x_transformer)\n",
    "\n",
    "\n",
    "combine_category_and_imputed_x = make_union(preprocess_x, extract_categories_transformer)\n",
    "\n",
    "imp.IterativeImputer()\n",
    "\n",
    "\n",
    "\n",
    "\n",
    "combine_category_and_imputed_x.set_output(transform='pandas')\n",
    "pipe = combine_category_and_imputed_x\n",
    "\n",
    "new_data = pipe.fit_transform(X, y)\n",
    "new_data.rename(mapper=lambda x: x.split('__')[-1], axis=1)\n",
    "\n",
    "for i in range(1,6):\n",
    "    y_label = f'C_{i}'\n",
    "    X = new_data.drop\n"
   ]
  },
  {
   "cell_type": "code",
   "execution_count": 175,
   "metadata": {},
   "outputs": [
    {
     "data": {
      "text/plain": [
       "[array(['H', 'K', 'I', 'G', 'J'], dtype=object),\n",
       " array(['H', 'I'], dtype=object),\n",
       " array(['K', 'G', 'I', 'J', 'H'], dtype=object),\n",
       " array(['J', 'I', 'G', 'H', 'K'], dtype=object),\n",
       " array(['J', 'G', 'K', 'H', 'I'], dtype=object)]"
      ]
     },
     "execution_count": 175,
     "metadata": {},
     "output_type": "execute_result"
    }
   ],
   "source": [
    "X[categorical_columns]\n",
    "non_nan_categories"
   ]
  },
  {
   "cell_type": "code",
   "execution_count": 142,
   "metadata": {},
   "outputs": [
    {
     "ename": "ValueError",
     "evalue": "could not convert string to float: 'I'",
     "output_type": "error",
     "traceback": [
      "\u001b[0;31m---------------------------------------------------------------------------\u001b[0m",
      "\u001b[0;31mValueError\u001b[0m                                Traceback (most recent call last)",
      "Cell \u001b[0;32mIn[142], line 2\u001b[0m\n\u001b[1;32m      1\u001b[0m dtree \u001b[39m=\u001b[39m tree\u001b[39m.\u001b[39mDecisionTreeRegressor(min_samples_leaf\u001b[39m=\u001b[39m\u001b[39m.05\u001b[39m)\n\u001b[0;32m----> 2\u001b[0m dtree\u001b[39m.\u001b[39;49mfit(X, y)\n\u001b[1;32m      3\u001b[0m fig, axes \u001b[39m=\u001b[39m plt\u001b[39m.\u001b[39msubplots(\u001b[39m1\u001b[39m, \u001b[39m1\u001b[39m, figsize\u001b[39m=\u001b[39m(\u001b[39m10\u001b[39m,\u001b[39m10\u001b[39m), dpi\u001b[39m=\u001b[39m\u001b[39m600\u001b[39m)\n\u001b[1;32m      4\u001b[0m tree\u001b[39m.\u001b[39mplot_tree(dtree, filled\u001b[39m=\u001b[39m\u001b[39mTrue\u001b[39;00m, feature_names\u001b[39m=\u001b[39m[name \u001b[39mfor\u001b[39;00m name \u001b[39min\u001b[39;00m X\u001b[39m.\u001b[39mcolumns \u001b[39mif\u001b[39;00m \u001b[39m'\u001b[39m\u001b[39mx\u001b[39m\u001b[39m'\u001b[39m \u001b[39min\u001b[39;00m name])\n",
      "File \u001b[0;32m~/.local/lib/python3.10/site-packages/sklearn/tree/_classes.py:1247\u001b[0m, in \u001b[0;36mDecisionTreeRegressor.fit\u001b[0;34m(self, X, y, sample_weight, check_input)\u001b[0m\n\u001b[1;32m   1218\u001b[0m \u001b[39mdef\u001b[39;00m \u001b[39mfit\u001b[39m(\u001b[39mself\u001b[39m, X, y, sample_weight\u001b[39m=\u001b[39m\u001b[39mNone\u001b[39;00m, check_input\u001b[39m=\u001b[39m\u001b[39mTrue\u001b[39;00m):\n\u001b[1;32m   1219\u001b[0m     \u001b[39m\"\"\"Build a decision tree regressor from the training set (X, y).\u001b[39;00m\n\u001b[1;32m   1220\u001b[0m \n\u001b[1;32m   1221\u001b[0m \u001b[39m    Parameters\u001b[39;00m\n\u001b[0;32m   (...)\u001b[0m\n\u001b[1;32m   1244\u001b[0m \u001b[39m        Fitted estimator.\u001b[39;00m\n\u001b[1;32m   1245\u001b[0m \u001b[39m    \"\"\"\u001b[39;00m\n\u001b[0;32m-> 1247\u001b[0m     \u001b[39msuper\u001b[39;49m()\u001b[39m.\u001b[39;49mfit(\n\u001b[1;32m   1248\u001b[0m         X,\n\u001b[1;32m   1249\u001b[0m         y,\n\u001b[1;32m   1250\u001b[0m         sample_weight\u001b[39m=\u001b[39;49msample_weight,\n\u001b[1;32m   1251\u001b[0m         check_input\u001b[39m=\u001b[39;49mcheck_input,\n\u001b[1;32m   1252\u001b[0m     )\n\u001b[1;32m   1253\u001b[0m     \u001b[39mreturn\u001b[39;00m \u001b[39mself\u001b[39m\n",
      "File \u001b[0;32m~/.local/lib/python3.10/site-packages/sklearn/tree/_classes.py:186\u001b[0m, in \u001b[0;36mBaseDecisionTree.fit\u001b[0;34m(self, X, y, sample_weight, check_input)\u001b[0m\n\u001b[1;32m    184\u001b[0m check_X_params \u001b[39m=\u001b[39m \u001b[39mdict\u001b[39m(dtype\u001b[39m=\u001b[39mDTYPE, accept_sparse\u001b[39m=\u001b[39m\u001b[39m\"\u001b[39m\u001b[39mcsc\u001b[39m\u001b[39m\"\u001b[39m)\n\u001b[1;32m    185\u001b[0m check_y_params \u001b[39m=\u001b[39m \u001b[39mdict\u001b[39m(ensure_2d\u001b[39m=\u001b[39m\u001b[39mFalse\u001b[39;00m, dtype\u001b[39m=\u001b[39m\u001b[39mNone\u001b[39;00m)\n\u001b[0;32m--> 186\u001b[0m X, y \u001b[39m=\u001b[39m \u001b[39mself\u001b[39;49m\u001b[39m.\u001b[39;49m_validate_data(\n\u001b[1;32m    187\u001b[0m     X, y, validate_separately\u001b[39m=\u001b[39;49m(check_X_params, check_y_params)\n\u001b[1;32m    188\u001b[0m )\n\u001b[1;32m    189\u001b[0m \u001b[39mif\u001b[39;00m issparse(X):\n\u001b[1;32m    190\u001b[0m     X\u001b[39m.\u001b[39msort_indices()\n",
      "File \u001b[0;32m~/.local/lib/python3.10/site-packages/sklearn/base.py:579\u001b[0m, in \u001b[0;36mBaseEstimator._validate_data\u001b[0;34m(self, X, y, reset, validate_separately, **check_params)\u001b[0m\n\u001b[1;32m    577\u001b[0m \u001b[39mif\u001b[39;00m \u001b[39m\"\u001b[39m\u001b[39mestimator\u001b[39m\u001b[39m\"\u001b[39m \u001b[39mnot\u001b[39;00m \u001b[39min\u001b[39;00m check_X_params:\n\u001b[1;32m    578\u001b[0m     check_X_params \u001b[39m=\u001b[39m {\u001b[39m*\u001b[39m\u001b[39m*\u001b[39mdefault_check_params, \u001b[39m*\u001b[39m\u001b[39m*\u001b[39mcheck_X_params}\n\u001b[0;32m--> 579\u001b[0m X \u001b[39m=\u001b[39m check_array(X, input_name\u001b[39m=\u001b[39;49m\u001b[39m\"\u001b[39;49m\u001b[39mX\u001b[39;49m\u001b[39m\"\u001b[39;49m, \u001b[39m*\u001b[39;49m\u001b[39m*\u001b[39;49mcheck_X_params)\n\u001b[1;32m    580\u001b[0m \u001b[39mif\u001b[39;00m \u001b[39m\"\u001b[39m\u001b[39mestimator\u001b[39m\u001b[39m\"\u001b[39m \u001b[39mnot\u001b[39;00m \u001b[39min\u001b[39;00m check_y_params:\n\u001b[1;32m    581\u001b[0m     check_y_params \u001b[39m=\u001b[39m {\u001b[39m*\u001b[39m\u001b[39m*\u001b[39mdefault_check_params, \u001b[39m*\u001b[39m\u001b[39m*\u001b[39mcheck_y_params}\n",
      "File \u001b[0;32m~/.local/lib/python3.10/site-packages/sklearn/utils/validation.py:879\u001b[0m, in \u001b[0;36mcheck_array\u001b[0;34m(array, accept_sparse, accept_large_sparse, dtype, order, copy, force_all_finite, ensure_2d, allow_nd, ensure_min_samples, ensure_min_features, estimator, input_name)\u001b[0m\n\u001b[1;32m    877\u001b[0m         array \u001b[39m=\u001b[39m xp\u001b[39m.\u001b[39mastype(array, dtype, copy\u001b[39m=\u001b[39m\u001b[39mFalse\u001b[39;00m)\n\u001b[1;32m    878\u001b[0m     \u001b[39melse\u001b[39;00m:\n\u001b[0;32m--> 879\u001b[0m         array \u001b[39m=\u001b[39m _asarray_with_order(array, order\u001b[39m=\u001b[39;49morder, dtype\u001b[39m=\u001b[39;49mdtype, xp\u001b[39m=\u001b[39;49mxp)\n\u001b[1;32m    880\u001b[0m \u001b[39mexcept\u001b[39;00m ComplexWarning \u001b[39mas\u001b[39;00m complex_warning:\n\u001b[1;32m    881\u001b[0m     \u001b[39mraise\u001b[39;00m \u001b[39mValueError\u001b[39;00m(\n\u001b[1;32m    882\u001b[0m         \u001b[39m\"\u001b[39m\u001b[39mComplex data not supported\u001b[39m\u001b[39m\\n\u001b[39;00m\u001b[39m{}\u001b[39;00m\u001b[39m\\n\u001b[39;00m\u001b[39m\"\u001b[39m\u001b[39m.\u001b[39mformat(array)\n\u001b[1;32m    883\u001b[0m     ) \u001b[39mfrom\u001b[39;00m \u001b[39mcomplex_warning\u001b[39;00m\n",
      "File \u001b[0;32m~/.local/lib/python3.10/site-packages/sklearn/utils/_array_api.py:185\u001b[0m, in \u001b[0;36m_asarray_with_order\u001b[0;34m(array, dtype, order, copy, xp)\u001b[0m\n\u001b[1;32m    182\u001b[0m     xp, _ \u001b[39m=\u001b[39m get_namespace(array)\n\u001b[1;32m    183\u001b[0m \u001b[39mif\u001b[39;00m xp\u001b[39m.\u001b[39m\u001b[39m__name__\u001b[39m \u001b[39min\u001b[39;00m {\u001b[39m\"\u001b[39m\u001b[39mnumpy\u001b[39m\u001b[39m\"\u001b[39m, \u001b[39m\"\u001b[39m\u001b[39mnumpy.array_api\u001b[39m\u001b[39m\"\u001b[39m}:\n\u001b[1;32m    184\u001b[0m     \u001b[39m# Use NumPy API to support order\u001b[39;00m\n\u001b[0;32m--> 185\u001b[0m     array \u001b[39m=\u001b[39m numpy\u001b[39m.\u001b[39;49masarray(array, order\u001b[39m=\u001b[39;49morder, dtype\u001b[39m=\u001b[39;49mdtype)\n\u001b[1;32m    186\u001b[0m     \u001b[39mreturn\u001b[39;00m xp\u001b[39m.\u001b[39masarray(array, copy\u001b[39m=\u001b[39mcopy)\n\u001b[1;32m    187\u001b[0m \u001b[39melse\u001b[39;00m:\n",
      "File \u001b[0;32m~/.local/lib/python3.10/site-packages/pandas/core/generic.py:2070\u001b[0m, in \u001b[0;36mNDFrame.__array__\u001b[0;34m(self, dtype)\u001b[0m\n\u001b[1;32m   2069\u001b[0m \u001b[39mdef\u001b[39;00m \u001b[39m__array__\u001b[39m(\u001b[39mself\u001b[39m, dtype: npt\u001b[39m.\u001b[39mDTypeLike \u001b[39m|\u001b[39m \u001b[39mNone\u001b[39;00m \u001b[39m=\u001b[39m \u001b[39mNone\u001b[39;00m) \u001b[39m-\u001b[39m\u001b[39m>\u001b[39m np\u001b[39m.\u001b[39mndarray:\n\u001b[0;32m-> 2070\u001b[0m     \u001b[39mreturn\u001b[39;00m np\u001b[39m.\u001b[39;49masarray(\u001b[39mself\u001b[39;49m\u001b[39m.\u001b[39;49m_values, dtype\u001b[39m=\u001b[39;49mdtype)\n",
      "\u001b[0;31mValueError\u001b[0m: could not convert string to float: 'I'"
     ]
    }
   ],
   "source": [
    "dtree = tree.DecisionTreeRegressor(min_samples_leaf=.05)\n",
    "dtree.fit(X, y)\n",
    "fig, axes = plt.subplots(1, 1, figsize=(10,10), dpi=600)\n",
    "tree.plot_tree(dtree, filled=True, feature_names=X.columns)"
   ]
  },
  {
   "cell_type": "code",
   "execution_count": null,
   "metadata": {},
   "outputs": [],
   "source": [
    "sns.heatmap(new.corr(), cmap='BrBG', vmin=-1, vmax=1)"
   ]
  },
  {
   "cell_type": "code",
   "execution_count": null,
   "metadata": {},
   "outputs": [],
   "source": [
    "non_nan_categories = list(df.loc[:, df.columns.str.contains('C')].dropna().apply(lambda x: x.unique()).to_numpy())\n",
    "onehot_no_nans = preproc.OneHotEncoder(categories = cats, handle_unknown='ignore', sparse=False)"
   ]
  }
 ],
 "metadata": {
  "kernelspec": {
   "display_name": "Python 3",
   "language": "python",
   "name": "python3"
  },
  "language_info": {
   "codemirror_mode": {
    "name": "ipython",
    "version": 3
   },
   "file_extension": ".py",
   "mimetype": "text/x-python",
   "name": "python",
   "nbconvert_exporter": "python",
   "pygments_lexer": "ipython3",
   "version": "3.10.6"
  },
  "orig_nbformat": 4
 },
 "nbformat": 4,
 "nbformat_minor": 2
}
