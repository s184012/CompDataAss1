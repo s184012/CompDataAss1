{
 "cells": [
  {
   "cell_type": "code",
   "execution_count": 84,
   "metadata": {},
   "outputs": [],
   "source": [
    "import pandas as pd\n",
    "from sklearn.experimental import enable_iterative_imputer\n",
    "import sklearn.impute as imp\n",
    "import sklearn.preprocessing as preproc\n",
    "from sklearn.neighbors import KNeighborsClassifier, KNeighborsRegressor\n",
    "from sklearn.pipeline import make_pipeline, Pipeline\n",
    "from sklearn.compose import make_column_transformer, make_column_selector\n",
    "import sklearn.tree as tree\n",
    "import numpy as np\n",
    "import matplotlib.pyplot as plt\n",
    "import seaborn as sns"
   ]
  },
  {
   "cell_type": "code",
   "execution_count": 133,
   "metadata": {},
   "outputs": [
    {
     "data": {
      "text/plain": [
       "array(['onehotencoder__C_1_H', 'onehotencoder__C_1_K',\n",
       "       'onehotencoder__C_1_I', 'onehotencoder__C_1_G',\n",
       "       'onehotencoder__C_1_J', 'onehotencoder__C_2_H',\n",
       "       'onehotencoder__C_2_I', 'onehotencoder__C_3_K',\n",
       "       'onehotencoder__C_3_G', 'onehotencoder__C_3_I',\n",
       "       'onehotencoder__C_3_J', 'onehotencoder__C_3_H',\n",
       "       'onehotencoder__C_4_J', 'onehotencoder__C_4_I',\n",
       "       'onehotencoder__C_4_G', 'onehotencoder__C_4_H',\n",
       "       'onehotencoder__C_4_K', 'onehotencoder__C_5_J',\n",
       "       'onehotencoder__C_5_G', 'onehotencoder__C_5_K',\n",
       "       'onehotencoder__C_5_H', 'onehotencoder__C_5_I', 'knnimputer__x_1',\n",
       "       'knnimputer__x_2', 'knnimputer__x_3', 'knnimputer__x_4',\n",
       "       'knnimputer__x_5', 'knnimputer__x_6', 'knnimputer__x_7',\n",
       "       'knnimputer__x_8', 'knnimputer__x_9', 'knnimputer__x_10',\n",
       "       'knnimputer__x_11', 'knnimputer__x_12', 'knnimputer__x_13',\n",
       "       'knnimputer__x_14', 'knnimputer__x_15', 'knnimputer__x_16',\n",
       "       'knnimputer__x_17', 'knnimputer__x_18', 'knnimputer__x_19',\n",
       "       'knnimputer__x_20', 'knnimputer__x_21', 'knnimputer__x_22',\n",
       "       'knnimputer__x_23', 'knnimputer__x_24', 'knnimputer__x_25',\n",
       "       'knnimputer__x_26', 'knnimputer__x_27', 'knnimputer__x_28',\n",
       "       'knnimputer__x_29', 'knnimputer__x_30', 'knnimputer__x_31',\n",
       "       'knnimputer__x_32', 'knnimputer__x_33', 'knnimputer__x_34',\n",
       "       'knnimputer__x_35', 'knnimputer__x_36', 'knnimputer__x_37',\n",
       "       'knnimputer__x_38', 'knnimputer__x_39', 'knnimputer__x_40',\n",
       "       'knnimputer__x_41', 'knnimputer__x_42', 'knnimputer__x_43',\n",
       "       'knnimputer__x_44', 'knnimputer__x_45', 'knnimputer__x_46',\n",
       "       'knnimputer__x_47', 'knnimputer__x_48', 'knnimputer__x_49',\n",
       "       'knnimputer__x_50', 'knnimputer__x_51', 'knnimputer__x_52',\n",
       "       'knnimputer__x_53', 'knnimputer__x_54', 'knnimputer__x_55',\n",
       "       'knnimputer__x_56', 'knnimputer__x_57', 'knnimputer__x_58',\n",
       "       'knnimputer__x_59', 'knnimputer__x_60', 'knnimputer__x_61',\n",
       "       'knnimputer__x_62', 'knnimputer__x_63', 'knnimputer__x_64',\n",
       "       'knnimputer__x_65', 'knnimputer__x_66', 'knnimputer__x_67',\n",
       "       'knnimputer__x_68', 'knnimputer__x_69', 'knnimputer__x_70',\n",
       "       'knnimputer__x_71', 'knnimputer__x_72', 'knnimputer__x_73',\n",
       "       'knnimputer__x_74', 'knnimputer__x_75', 'knnimputer__x_76',\n",
       "       'knnimputer__x_77', 'knnimputer__x_78', 'knnimputer__x_79',\n",
       "       'knnimputer__x_80', 'knnimputer__x_81', 'knnimputer__x_82',\n",
       "       'knnimputer__x_83', 'knnimputer__x_84', 'knnimputer__x_85',\n",
       "       'knnimputer__x_86', 'knnimputer__x_87', 'knnimputer__x_88',\n",
       "       'knnimputer__x_89', 'knnimputer__x_90', 'knnimputer__x_91',\n",
       "       'knnimputer__x_92', 'knnimputer__x_93', 'knnimputer__x_94',\n",
       "       'knnimputer__x_95'], dtype=object)"
      ]
     },
     "execution_count": 133,
     "metadata": {},
     "output_type": "execute_result"
    }
   ],
   "source": [
    "df = pd.read_csv('raw.csv')\n",
    "X, y = df.drop(labels='y', axis=1), df['y']\n",
    "\n",
    "categorical_columns = list(df.loc[:,df.columns.str.contains('C')])\n",
    "numerical_columns = make_column_selector(dtype_include=np.float64)\n",
    "\n",
    "non_nan_categories = list(df.loc[:, df.columns.str.contains('C')].dropna().apply(lambda x: x.unique()).to_numpy())\n",
    "onehot_no_nans_encoder = preproc.OneHotEncoder(categories = non_nan_categories, handle_unknown='ignore', sparse_output=False)\n",
    "numerical_imputer = imp.KNNImputer()\n",
    "onehot_no_nans_transformer = make_column_transformer(\n",
    "    (onehot_no_nans_encoder, categorical_columns),\n",
    "    (numerical_imputer, numerical_columns)\n",
    ")\n",
    "\n",
    "# numerical_imputer = imp.KNNImputer()\n",
    "# numerical_transformer = make_column_transformer(\n",
    "#     (numerical_imputer, numerical_columns)\n",
    "# )\n",
    "\n",
    "new = onehot_no_nans_transformer.fit_transform(X, y)\n",
    "\n",
    "# onehot_no_nans_transformer.fit_transform(X, y)\n",
    "\n",
    "# numerical_preprocessor = Pipeline([\n",
    "#     ('onehot_no_nans', onehot_no_nans_transformer),\n",
    "#     ('numerical_imputer', numerical_transformer)\n",
    "# ])\n",
    "\n",
    "# test = numerical_preprocessor.fit(X=X, y=y)\n",
    "\n",
    "# categorical_imputer = imp.IterativeImputer(\n",
    "#     KNeighborsClassifier(),\n",
    "#     initial_strategy='most_frequent'\n",
    "#     )\n",
    "\n",
    "# numeric_imputer = make_column_transformer(\n",
    "#     (numerical_imputer, numerical_columns)\n",
    "# )\n",
    "\n",
    "# # onehot_trans = make_column_transformer((\n",
    "# #     onehot, make_column_selector('C_')\n",
    "# # ), remainder='passthrough')\n",
    "# make_pipeline(\n",
    "#     onehot_no_nans,\n",
    "\n",
    "# )\n",
    "\n",
    "\n",
    "\n",
    "# new = pd.DataFrame(imputer.fit_transform(df), columns=imputer.get_feature_names_out())\n",
    "# new = new.rename(mapper=lambda x: x.split('__')[1], axis=1)\n",
    "# X, y = new.drop(labels='y', axis=1), new['y']\n",
    "\n",
    "# new\n",
    "onehot_no_nans_transformer.get_feature_names_out()"
   ]
  },
  {
   "cell_type": "code",
   "execution_count": null,
   "metadata": {},
   "outputs": [],
   "source": [
    "dtree = tree.DecisionTreeRegressor(min_samples_leaf=.05)\n",
    "dtree.fit(X, y)\n",
    "fig, axes = plt.subplots(1, 1, figsize=(10,10), dpi=600)\n",
    "tree.plot_tree(dtree, filled=True, feature_names=X.columns)"
   ]
  },
  {
   "cell_type": "code",
   "execution_count": null,
   "metadata": {},
   "outputs": [],
   "source": [
    "sns.heatmap(new.corr(), cmap='BrBG', vmin=-1, vmax=1)"
   ]
  },
  {
   "cell_type": "code",
   "execution_count": null,
   "metadata": {},
   "outputs": [],
   "source": [
    "non_nan_categories = list(df.loc[:, df.columns.str.contains('C')].dropna().apply(lambda x: x.unique()).to_numpy())\n",
    "onehot_no_nans = preproc.OneHotEncoder(categories = cats, handle_unknown='ignore', sparse=False)"
   ]
  }
 ],
 "metadata": {
  "kernelspec": {
   "display_name": "Python 3",
   "language": "python",
   "name": "python3"
  },
  "language_info": {
   "codemirror_mode": {
    "name": "ipython",
    "version": 3
   },
   "file_extension": ".py",
   "mimetype": "text/x-python",
   "name": "python",
   "nbconvert_exporter": "python",
   "pygments_lexer": "ipython3",
   "version": "3.10.6"
  },
  "orig_nbformat": 4
 },
 "nbformat": 4,
 "nbformat_minor": 2
}
